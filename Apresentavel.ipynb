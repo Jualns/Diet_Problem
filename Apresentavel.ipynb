{
 "cells": [
  {
   "cell_type": "markdown",
   "metadata": {
    "toc": true
   },
   "source": [
    "<h1>Índice<span class=\"tocSkip\"></span></h1>\n",
    "<div class=\"toc\"><ul class=\"toc-item\"><li><span><a href=\"#Preparando-Jupyter\" data-toc-modified-id=\"Preparando-Jupyter-1\"><span class=\"toc-item-num\">1&nbsp;&nbsp;</span>Preparando Jupyter</a></span></li><li><span><a href=\"#Aproximando-o-Gasto-Calórico-Diário\" data-toc-modified-id=\"Aproximando-o-Gasto-Calórico-Diário-2\"><span class=\"toc-item-num\">2&nbsp;&nbsp;</span>Aproximando o Gasto Calórico Diário</a></span><ul class=\"toc-item\"><li><span><a href=\"#Exemplo\" data-toc-modified-id=\"Exemplo-2.1\"><span class=\"toc-item-num\">2.1&nbsp;&nbsp;</span>Exemplo</a></span></li></ul></li><li><span><a href=\"#Preparando-Dados\" data-toc-modified-id=\"Preparando-Dados-3\"><span class=\"toc-item-num\">3&nbsp;&nbsp;</span>Preparando Dados</a></span><ul class=\"toc-item\"><li><span><a href=\"#Distribuição-de-Calorias\" data-toc-modified-id=\"Distribuição-de-Calorias-3.1\"><span class=\"toc-item-num\">3.1&nbsp;&nbsp;</span>Distribuição de Calorias</a></span></li></ul></li><li><span><a href=\"#Modelo-Matemático\" data-toc-modified-id=\"Modelo-Matemático-4\"><span class=\"toc-item-num\">4&nbsp;&nbsp;</span>Modelo Matemático</a></span></li><li><span><a href=\"#Mais-detalhes-ao-modelo\" data-toc-modified-id=\"Mais-detalhes-ao-modelo-5\"><span class=\"toc-item-num\">5&nbsp;&nbsp;</span>Mais detalhes ao modelo</a></span></li><li><span><a href=\"#Verificando-o-Gasto-Calórico-Basal-e-Total\" data-toc-modified-id=\"Verificando-o-Gasto-Calórico-Basal-e-Total-6\"><span class=\"toc-item-num\">6&nbsp;&nbsp;</span>Verificando o Gasto Calórico Basal e Total</a></span></li><li><span><a href=\"#Definindo-os-Alimentos\" data-toc-modified-id=\"Definindo-os-Alimentos-7\"><span class=\"toc-item-num\">7&nbsp;&nbsp;</span>Definindo os Alimentos</a></span></li></ul></div>"
   ]
  },
  {
   "cell_type": "markdown",
   "metadata": {},
   "source": [
    "# Preparando Jupyter\n",
    "***"
   ]
  },
  {
   "cell_type": "code",
   "execution_count": 1,
   "metadata": {},
   "outputs": [],
   "source": [
    "import XLSX\n",
    "using JuMP, Juniper, Ipopt\n",
    "using DataFrames"
   ]
  },
  {
   "cell_type": "code",
   "execution_count": 2,
   "metadata": {},
   "outputs": [],
   "source": [
    "if ~occursin(\"Dieta\", pwd())\n",
    "    try\n",
    "        cd(\"Desktop/Dieta\")\n",
    "    catch\n",
    "        nothing\n",
    "    end\n",
    "end"
   ]
  },
  {
   "cell_type": "markdown",
   "metadata": {},
   "source": [
    "# Aproximando o Gasto Calórico Diário\n",
    "***"
   ]
  },
  {
   "cell_type": "markdown",
   "metadata": {},
   "source": [
    "Gasto Basal por Harris e Benedict:\n",
    "\n",
    "$ M(kg, cm, idade) = 13,8.kg + 5.cm - 6,8.idade + 66 $\\\n",
    "$ F(kg, cm, idade) = 9,6.kg + 1,9.cm - 4,7.idade + 665 $"
   ]
  },
  {
   "cell_type": "code",
   "execution_count": 15,
   "metadata": {
    "scrolled": true
   },
   "outputs": [
    {
     "data": {
      "text/plain": [
       "basal_Harris_Benedict (generic function with 2 methods)"
      ]
     },
     "execution_count": 15,
     "metadata": {},
     "output_type": "execute_result"
    }
   ],
   "source": [
    "#Utilizar com ativos fisicamente, objetivo: aumento de peso e massa magra.\n",
    "#SUPERESTIMA O BASAL\n",
    "function basal_Harris_Benedict(peso_kg, altura_cm, idade, sexo = 0)\n",
    "    if sexo == 0 #homem\n",
    "        return 66 + (13.8*peso_kg) + (5*altura_cm) - (6.8*idade)\n",
    "    else #mulher\n",
    "        return 665 + (9.6*peso_kg) + (1.9*altura_cm) - (4.7*idade)\n",
    "    end\n",
    "end"
   ]
  },
  {
   "cell_type": "markdown",
   "metadata": {},
   "source": [
    "Gasto Basal por FAO e OMS:\n",
    "\n",
    "| Idade   | Masculino           | Feminino            |\n",
    "|---------|---------------------|---------------------|\n",
    "| 10 a 18 | (17,686.kg) + 658,2 | (13,384.kg) + 692,6 |\n",
    "| 18 a 30 | (15,057.kg) + 692,2 | (14,818.kg) + 486,6 |\n",
    "| 30 a 60 | (11,472.kg) + 873,1 | (8,126.kg) + 845,6  |\n",
    "| >60     | (11,711.kg) + 587,7 | (9,082.kg) + 658,5  |"
   ]
  },
  {
   "cell_type": "code",
   "execution_count": 16,
   "metadata": {},
   "outputs": [
    {
     "data": {
      "text/plain": [
       "basal_FAO_OMS (generic function with 2 methods)"
      ]
     },
     "execution_count": 16,
     "metadata": {},
     "output_type": "execute_result"
    }
   ],
   "source": [
    "function basal_FAO_OMS(peso_kg, idade, sexo = 0)\n",
    "    if sexo == 0 #homem\n",
    "        if 10 ≤ idade < 18\n",
    "            return (17.686*peso_kg) + 658.2\n",
    "        elseif  18 ≤ idade < 30\n",
    "            return (15.057*peso_kg) + 692.2\n",
    "        elseif 30 ≤ idade < 60\n",
    "            return (11.472*peso_kg) + 873.1\n",
    "        else\n",
    "            return (11.711*peso_kg) + 587.7\n",
    "        end\n",
    "    else #mulher\n",
    "        if 10 ≤ idade < 18\n",
    "            return (13.384*peso_kg) + 692.6\n",
    "        elseif  18 ≤ idade < 30\n",
    "            return (14.818*peso_kg) + 486.6\n",
    "        elseif 30 ≤ idade < 60\n",
    "            return (8.126*peso_kg) + 845.6\n",
    "        else\n",
    "            return \t(9.082*peso_kg) + 658.5\n",
    "        end\n",
    "    end\n",
    "end"
   ]
  },
  {
   "cell_type": "markdown",
   "metadata": {},
   "source": [
    "Gasto Basal por Mifflin e St. Jeor:\n",
    "\n",
    "$ M(kg, cm, idade) = 10.kg + 6,25.cm - 5.idade + 5 $\\\n",
    "$ F(kg, cm, idade) = 10.kg + 6,25.cm - 5.idade - 161 $"
   ]
  },
  {
   "cell_type": "code",
   "execution_count": 17,
   "metadata": {},
   "outputs": [
    {
     "data": {
      "text/plain": [
       "basal_Mifflin_St_Jeor (generic function with 2 methods)"
      ]
     },
     "execution_count": 17,
     "metadata": {},
     "output_type": "execute_result"
    }
   ],
   "source": [
    "#objetivo de emagrecimento.\n",
    "#MAIS PRECISA QUE Harris_Benedict\n",
    "function basal_Mifflin_St_Jeor(peso_kg, altura_cm, idade, sexo = 0)\n",
    "    if sexo == 0 #homem\n",
    "        return (10*peso_kg) + (6.25*altura_cm) - (5*idade) + 5\n",
    "    else #mulher\n",
    "        return (10*peso_kg) + (6.25*altura_cm) - (5*idade) - 161\n",
    "    end\n",
    "end"
   ]
  },
  {
   "cell_type": "markdown",
   "metadata": {},
   "source": [
    "Gasto Basal por Cunningham e Tinsley:\n",
    "\n",
    "$ T1(Mm) = 22.(Mm) + 500 $\\\n",
    "$ T2(Mm) = 25,9.(Mm) + 284 $\n",
    "\n",
    "$ T3(kg) = 24,8.kg + 284 $\n",
    "\n",
    "**Mm** = Massa magra"
   ]
  },
  {
   "cell_type": "code",
   "execution_count": 18,
   "metadata": {},
   "outputs": [
    {
     "data": {
      "text/plain": [
       "basal_Cunningham_Tinsley (generic function with 1 method)"
      ]
     },
     "execution_count": 18,
     "metadata": {},
     "output_type": "execute_result"
    }
   ],
   "source": [
    "#individuos ativos fisicamente e que possuem alto volume muscular e baixo percentual de gordura.\n",
    "function basal_Cunningham_Tinsley(peso_kg, massa_magra; tipo = 1)\n",
    "    if tipo == 1 #Cunningham (MLG)\n",
    "        return (22*massa_magra) + 500\n",
    "    elseif tipo == 2 #Tinsley (MLG)\n",
    "        return (25.9*massa_magra) + 284\n",
    "    else #Tinsley (P)\n",
    "        return (24.8*peso_kg) + 10\n",
    "    end\n",
    "end"
   ]
  },
  {
   "cell_type": "markdown",
   "metadata": {},
   "source": [
    "## Exemplo"
   ]
  },
  {
   "cell_type": "code",
   "execution_count": 19,
   "metadata": {},
   "outputs": [
    {
     "data": {
      "text/plain": [
       "basal (generic function with 1 method)"
      ]
     },
     "execution_count": 19,
     "metadata": {},
     "output_type": "execute_result"
    }
   ],
   "source": [
    "function atividade(atividades, basa)\n",
    "    gasto_total = 1.\n",
    "    if atividades == \"Sedentario\"\n",
    "        gasto_total = 1.2*basa #1 a 1.39\n",
    "    elseif atividades == \"Pouco ativo\"\n",
    "        gasto_total = 1.45*basa #1.4 a 1.59\n",
    "    elseif atividades == \"Ativo\"\n",
    "        gasto_total = 1.75*basa #1.6 a 1.89\n",
    "    else #Muito Ativo\n",
    "        gasto_total = 2.2*basa #1.9 a 2.5\n",
    "    end\n",
    "    return gasto_total\n",
    "end\n",
    "\n",
    "function basal(kg, altura, age, massa_magra ;pref = 0)\n",
    "    set_basal = [basal_Harris_Benedict(kg, altura, age),\n",
    "            basal_FAO_OMS(kg, age),\n",
    "            basal_Mifflin_St_Jeor(kg, altura, age),\n",
    "            basal_Cunningham_Tinsley(kg, massa_magra, tipo = 1),\n",
    "            basal_Cunningham_Tinsley(kg, massa_magra, tipo = 2),\n",
    "            basal_Cunningham_Tinsley(kg, massa_magra, tipo = 3)]\n",
    "    nomes = [\"Harris e Benedict\", \"FAO e OMS\", \"Mifflin e St. Jeor\", \"Cunningham\", \"Tinsley Mm\", \"Tinsley peso\", \"Média\"]\n",
    "    med = sum(set_basal)/6\n",
    "    if pref == 0\n",
    "        return med\n",
    "    elseif pref == 1\n",
    "        return (set_basal[1] + set_basal[3])/2\n",
    "    end\n",
    "    return DataFrame(Nome = nomes, Basal = append!(set_basal, [med]))\n",
    "end"
   ]
  },
  {
   "cell_type": "code",
   "execution_count": 20,
   "metadata": {},
   "outputs": [
    {
     "data": {
      "text/plain": [
       "\"\""
      ]
     },
     "execution_count": 20,
     "metadata": {},
     "output_type": "execute_result"
    }
   ],
   "source": [
    "#Exemplo Masculino\n",
    "kg_m = 64\n",
    "age_m = 21\n",
    "altura_m = 162\n",
    "massa_magra_m = kg_m*(1 - (22.15 + 6)/100) #22.15% de gordura, 6% de óssos e etc.\n",
    "atividades_m = \"Ativo\"\n",
    "\"\"\n",
    "\n",
    "#Exemplo Feminino\n",
    "kg_f = 54\n",
    "age_f = 22\n",
    "altura_f = 162\n",
    "massa_magra_f = kg_f*(1 - 0.14 - 0.06) #14% de gordura, 6% de óssos e etc.\n",
    "atividades_f = \"Ativo\"\n",
    "\"\""
   ]
  },
  {
   "cell_type": "code",
   "execution_count": 21,
   "metadata": {},
   "outputs": [
    {
     "data": {
      "text/html": [
       "<table class=\"data-frame\"><thead><tr><th></th><th>Nome</th><th>Basal</th></tr><tr><th></th><th>String</th><th>Float64</th></tr></thead><tbody><p>7 rows × 2 columns</p><tr><th>1</th><td>Harris e Benedict</td><td>1616.4</td></tr><tr><th>2</th><td>FAO e OMS</td><td>1655.85</td></tr><tr><th>3</th><td>Mifflin e St. Jeor</td><td>1552.5</td></tr><tr><th>4</th><td>Cunningham</td><td>1511.65</td></tr><tr><th>5</th><td>Tinsley Mm</td><td>1474.99</td></tr><tr><th>6</th><td>Tinsley peso</td><td>1597.2</td></tr><tr><th>7</th><td>Média</td><td>1568.1</td></tr></tbody></table>"
      ],
      "text/latex": [
       "\\begin{tabular}{r|cc}\n",
       "\t& Nome & Basal\\\\\n",
       "\t\\hline\n",
       "\t& String & Float64\\\\\n",
       "\t\\hline\n",
       "\t1 & Harris e Benedict & 1616.4 \\\\\n",
       "\t2 & FAO e OMS & 1655.85 \\\\\n",
       "\t3 & Mifflin e St. Jeor & 1552.5 \\\\\n",
       "\t4 & Cunningham & 1511.65 \\\\\n",
       "\t5 & Tinsley Mm & 1474.99 \\\\\n",
       "\t6 & Tinsley peso & 1597.2 \\\\\n",
       "\t7 & Média & 1568.1 \\\\\n",
       "\\end{tabular}\n"
      ],
      "text/plain": [
       "\u001b[1m7×2 DataFrame\u001b[0m\n",
       "\u001b[1m Row \u001b[0m│\u001b[1m Nome               \u001b[0m\u001b[1m Basal   \u001b[0m\n",
       "\u001b[1m     \u001b[0m│\u001b[90m String             \u001b[0m\u001b[90m Float64 \u001b[0m\n",
       "─────┼─────────────────────────────\n",
       "   1 │ Harris e Benedict   1616.4\n",
       "   2 │ FAO e OMS           1655.85\n",
       "   3 │ Mifflin e St. Jeor  1552.5\n",
       "   4 │ Cunningham          1511.65\n",
       "   5 │ Tinsley Mm          1474.99\n",
       "   6 │ Tinsley peso        1597.2\n",
       "   7 │ Média               1568.1"
      ]
     },
     "execution_count": 21,
     "metadata": {},
     "output_type": "execute_result"
    }
   ],
   "source": [
    "#Masculino\n",
    "basal(kg_m, altura_m, age_m, massa_magra_m, pref = 3)"
   ]
  },
  {
   "cell_type": "code",
   "execution_count": 22,
   "metadata": {},
   "outputs": [
    {
     "data": {
      "text/html": [
       "<table class=\"data-frame\"><thead><tr><th></th><th>Nome</th><th>Basal</th></tr><tr><th></th><th>String</th><th>Float64</th></tr></thead><tbody><p>7 rows × 2 columns</p><tr><th>1</th><td>Harris e Benedict</td><td>1471.6</td></tr><tr><th>2</th><td>FAO e OMS</td><td>1505.28</td></tr><tr><th>3</th><td>Mifflin e St. Jeor</td><td>1447.5</td></tr><tr><th>4</th><td>Cunningham</td><td>1450.4</td></tr><tr><th>5</th><td>Tinsley Mm</td><td>1402.88</td></tr><tr><th>6</th><td>Tinsley peso</td><td>1349.2</td></tr><tr><th>7</th><td>Média</td><td>1437.81</td></tr></tbody></table>"
      ],
      "text/latex": [
       "\\begin{tabular}{r|cc}\n",
       "\t& Nome & Basal\\\\\n",
       "\t\\hline\n",
       "\t& String & Float64\\\\\n",
       "\t\\hline\n",
       "\t1 & Harris e Benedict & 1471.6 \\\\\n",
       "\t2 & FAO e OMS & 1505.28 \\\\\n",
       "\t3 & Mifflin e St. Jeor & 1447.5 \\\\\n",
       "\t4 & Cunningham & 1450.4 \\\\\n",
       "\t5 & Tinsley Mm & 1402.88 \\\\\n",
       "\t6 & Tinsley peso & 1349.2 \\\\\n",
       "\t7 & Média & 1437.81 \\\\\n",
       "\\end{tabular}\n"
      ],
      "text/plain": [
       "\u001b[1m7×2 DataFrame\u001b[0m\n",
       "\u001b[1m Row \u001b[0m│\u001b[1m Nome               \u001b[0m\u001b[1m Basal   \u001b[0m\n",
       "\u001b[1m     \u001b[0m│\u001b[90m String             \u001b[0m\u001b[90m Float64 \u001b[0m\n",
       "─────┼─────────────────────────────\n",
       "   1 │ Harris e Benedict   1471.6\n",
       "   2 │ FAO e OMS           1505.28\n",
       "   3 │ Mifflin e St. Jeor  1447.5\n",
       "   4 │ Cunningham          1450.4\n",
       "   5 │ Tinsley Mm          1402.88\n",
       "   6 │ Tinsley peso        1349.2\n",
       "   7 │ Média               1437.81"
      ]
     },
     "execution_count": 22,
     "metadata": {},
     "output_type": "execute_result"
    }
   ],
   "source": [
    "#Feminino\n",
    "basal(kg_f, altura_f, age_f, massa_magra_f, pref = 3)"
   ]
  },
  {
   "cell_type": "code",
   "execution_count": 23,
   "metadata": {},
   "outputs": [
    {
     "name": "stdout",
     "output_type": "stream",
     "text": [
      "Basal Masculino: 1584.45\n",
      "Basal Feminino: 1459.5500000000002\n"
     ]
    }
   ],
   "source": [
    "basal_m = basal(kg_m, altura_m, age_m, massa_magra_m, pref = 1)\n",
    "basal_f = basal(kg_f, altura_f, age_f, massa_magra_f, pref = 1)\n",
    "\n",
    "println(\"Basal Masculino: \", basal_m)\n",
    "println(\"Basal Feminino: \", basal_f)"
   ]
  },
  {
   "cell_type": "code",
   "execution_count": 24,
   "metadata": {},
   "outputs": [
    {
     "name": "stdout",
     "output_type": "stream",
     "text": [
      "Gasto Total Calórico Masculino - 2772.7875\n",
      "Gasto Total Calórico Feminino - 2554.2125000000005\n"
     ]
    }
   ],
   "source": [
    "gct_m = atividade(atividades_m, basal_m)\n",
    "gct_f = atividade(atividades_f, basal_f)\n",
    "\n",
    "println(\"Gasto Total Calórico Masculino - \", gct_m)\n",
    "println(\"Gasto Total Calórico Feminino - \", gct_f)"
   ]
  },
  {
   "cell_type": "markdown",
   "metadata": {},
   "source": [
    "# Preparando Dados\n",
    "***"
   ]
  },
  {
   "cell_type": "code",
   "execution_count": 3,
   "metadata": {},
   "outputs": [
    {
     "data": {
      "text/html": [
       "<table class=\"data-frame\"><thead><tr><th></th><th>Item</th><th>Nome</th><th>Preparo</th><th>Carboidrato (g)</th></tr><tr><th></th><th>Any</th><th>Any</th><th>Any</th><th>Any</th></tr></thead><tbody><p>597 rows × 14 columns (omitted printing of 10 columns)</p><tr><th>1</th><td>1</td><td>Arroz</td><td> integral, cozido</td><td>25,8</td></tr><tr><th>2</th><td>2</td><td>Arroz</td><td> integral, cru</td><td>77,5</td></tr><tr><th>3</th><td>3</td><td>Arroz</td><td> tipo 1, cozido</td><td>28,1</td></tr><tr><th>4</th><td>4</td><td>Arroz</td><td> tipo 1, cru</td><td>78,8</td></tr><tr><th>5</th><td>5</td><td>Arroz</td><td> tipo 2, cozido</td><td>28,2</td></tr><tr><th>6</th><td>6</td><td>Arroz</td><td> tipo 2, cru</td><td>78,9</td></tr><tr><th>7</th><td>7</td><td>Aveia</td><td> flocos, crua</td><td>66,6</td></tr><tr><th>8</th><td>8</td><td>Biscoito</td><td> doce, maisena</td><td>75,2</td></tr><tr><th>9</th><td>9</td><td>Biscoito</td><td> doce, recheado com chocolate</td><td>70,5</td></tr><tr><th>10</th><td>10</td><td>Biscoito</td><td> doce, recheado com morango</td><td>71,0</td></tr><tr><th>11</th><td>11</td><td>Biscoito</td><td> doce, wafer, recheado de chocolate</td><td>67,5</td></tr><tr><th>12</th><td>12</td><td>Biscoito</td><td> doce, wafer, recheado de morango</td><td>67,4</td></tr><tr><th>13</th><td>13</td><td>Biscoito</td><td> salgado, cream cracker</td><td>68,7</td></tr><tr><th>14</th><td>14</td><td>Bolo</td><td> mistura para</td><td>84,7</td></tr><tr><th>15</th><td>15</td><td>Bolo</td><td> pronto, aipim</td><td>47,9</td></tr><tr><th>16</th><td>16</td><td>Bolo</td><td> pronto, chocolate</td><td>54,7</td></tr><tr><th>17</th><td>17</td><td>Bolo</td><td> pronto, coco</td><td>52,3</td></tr><tr><th>18</th><td>18</td><td>Bolo</td><td> pronto, milho</td><td>45,1</td></tr><tr><th>19</th><td>19</td><td>Canjica</td><td> branca, crua</td><td>78,1</td></tr><tr><th>20</th><td>20</td><td>Canjica</td><td> com leite integral</td><td>23,6</td></tr><tr><th>21</th><td>21</td><td>Cereais</td><td> milho, flocos, com sal</td><td>80,8</td></tr><tr><th>22</th><td>22</td><td>Cereais</td><td> milho, flocos, sem sal</td><td>80,4</td></tr><tr><th>23</th><td>23</td><td>Cereais</td><td> mingau, milho, infantil</td><td>87,3</td></tr><tr><th>24</th><td>24</td><td>Cereais</td><td> mistura para vitamina, trigo, cevada e aveia</td><td>81,6</td></tr><tr><th>25</th><td>25</td><td>Cereal matinal</td><td> milho</td><td>83,8</td></tr><tr><th>26</th><td>26</td><td>Cereal matinal</td><td> milho, açúcar</td><td>88,8</td></tr><tr><th>27</th><td>27</td><td>Creme de arroz</td><td> pó</td><td>83,9</td></tr><tr><th>28</th><td>28</td><td>Creme de milho</td><td> pó</td><td>86,1</td></tr><tr><th>29</th><td>29</td><td>Curau</td><td> milho verde</td><td>13,9</td></tr><tr><th>30</th><td>30</td><td>Curau</td><td> milho verde, mistura para</td><td>79,8</td></tr><tr><th>&vellip;</th><td>&vellip;</td><td>&vellip;</td><td>&vellip;</td><td>&vellip;</td></tr></tbody></table>"
      ],
      "text/latex": [
       "\\begin{tabular}{r|ccccc}\n",
       "\t& Item & Nome & Preparo & Carboidrato (g) & \\\\\n",
       "\t\\hline\n",
       "\t& Any & Any & Any & Any & \\\\\n",
       "\t\\hline\n",
       "\t1 & 1 & Arroz &  integral, cozido & 25,8 & $\\dots$ \\\\\n",
       "\t2 & 2 & Arroz &  integral, cru & 77,5 & $\\dots$ \\\\\n",
       "\t3 & 3 & Arroz &  tipo 1, cozido & 28,1 & $\\dots$ \\\\\n",
       "\t4 & 4 & Arroz &  tipo 1, cru & 78,8 & $\\dots$ \\\\\n",
       "\t5 & 5 & Arroz &  tipo 2, cozido & 28,2 & $\\dots$ \\\\\n",
       "\t6 & 6 & Arroz &  tipo 2, cru & 78,9 & $\\dots$ \\\\\n",
       "\t7 & 7 & Aveia &  flocos, crua & 66,6 & $\\dots$ \\\\\n",
       "\t8 & 8 & Biscoito &  doce, maisena & 75,2 & $\\dots$ \\\\\n",
       "\t9 & 9 & Biscoito &  doce, recheado com chocolate & 70,5 & $\\dots$ \\\\\n",
       "\t10 & 10 & Biscoito &  doce, recheado com morango & 71,0 & $\\dots$ \\\\\n",
       "\t11 & 11 & Biscoito &  doce, wafer, recheado de chocolate & 67,5 & $\\dots$ \\\\\n",
       "\t12 & 12 & Biscoito &  doce, wafer, recheado de morango & 67,4 & $\\dots$ \\\\\n",
       "\t13 & 13 & Biscoito &  salgado, cream cracker & 68,7 & $\\dots$ \\\\\n",
       "\t14 & 14 & Bolo &  mistura para & 84,7 & $\\dots$ \\\\\n",
       "\t15 & 15 & Bolo &  pronto, aipim & 47,9 & $\\dots$ \\\\\n",
       "\t16 & 16 & Bolo &  pronto, chocolate & 54,7 & $\\dots$ \\\\\n",
       "\t17 & 17 & Bolo &  pronto, coco & 52,3 & $\\dots$ \\\\\n",
       "\t18 & 18 & Bolo &  pronto, milho & 45,1 & $\\dots$ \\\\\n",
       "\t19 & 19 & Canjica &  branca, crua & 78,1 & $\\dots$ \\\\\n",
       "\t20 & 20 & Canjica &  com leite integral & 23,6 & $\\dots$ \\\\\n",
       "\t21 & 21 & Cereais &  milho, flocos, com sal & 80,8 & $\\dots$ \\\\\n",
       "\t22 & 22 & Cereais &  milho, flocos, sem sal & 80,4 & $\\dots$ \\\\\n",
       "\t23 & 23 & Cereais &  mingau, milho, infantil & 87,3 & $\\dots$ \\\\\n",
       "\t24 & 24 & Cereais &  mistura para vitamina, trigo, cevada e aveia & 81,6 & $\\dots$ \\\\\n",
       "\t25 & 25 & Cereal matinal &  milho & 83,8 & $\\dots$ \\\\\n",
       "\t26 & 26 & Cereal matinal &  milho, açúcar & 88,8 & $\\dots$ \\\\\n",
       "\t27 & 27 & Creme de arroz &  pó & 83,9 & $\\dots$ \\\\\n",
       "\t28 & 28 & Creme de milho &  pó & 86,1 & $\\dots$ \\\\\n",
       "\t29 & 29 & Curau &  milho verde & 13,9 & $\\dots$ \\\\\n",
       "\t30 & 30 & Curau &  milho verde, mistura para & 79,8 & $\\dots$ \\\\\n",
       "\t$\\dots$ & $\\dots$ & $\\dots$ & $\\dots$ & $\\dots$ &  \\\\\n",
       "\\end{tabular}\n"
      ],
      "text/plain": [
       "\u001b[1m597×14 DataFrame\u001b[0m\n",
       "\u001b[1m Row \u001b[0m│\u001b[1m Item \u001b[0m\u001b[1m Nome               \u001b[0m\u001b[1m Preparo                           \u001b[0m\u001b[1m Carboidrat\u001b[0m ⋯\n",
       "\u001b[1m     \u001b[0m│\u001b[90m Any  \u001b[0m\u001b[90m Any                \u001b[0m\u001b[90m Any                               \u001b[0m\u001b[90m Any       \u001b[0m ⋯\n",
       "─────┼──────────────────────────────────────────────────────────────────────────\n",
       "   1 │ 1     Arroz                integral, cozido                  25,8       ⋯\n",
       "   2 │ 2     Arroz                integral, cru                     77,5\n",
       "   3 │ 3     Arroz                tipo 1, cozido                    28,1\n",
       "   4 │ 4     Arroz                tipo 1, cru                       78,8\n",
       "   5 │ 5     Arroz                tipo 2, cozido                    28,2       ⋯\n",
       "   6 │ 6     Arroz                tipo 2, cru                       78,9\n",
       "   7 │ 7     Aveia                flocos, crua                      66,6\n",
       "   8 │ 8     Biscoito             doce, maisena                     75,2\n",
       "   9 │ 9     Biscoito             doce, recheado com chocolate      70,5       ⋯\n",
       "  10 │ 10    Biscoito             doce, recheado com morango        71,0\n",
       "  11 │ 11    Biscoito             doce, wafer, recheado de chocol…  67,5\n",
       "  ⋮  │  ⋮            ⋮                           ⋮                         ⋮   ⋱\n",
       " 588 │ 588   Castanha-de-caju     torrada, salgada                  29,1\n",
       " 589 │ 589   Castanha-do-Brasil   crua                              15,1       ⋯\n",
       " 590 │ 590   Coco                 cru                               10,4\n",
       " 591 │ 591   Coco                 verde, cru                        *\n",
       " 592 │ 592   Farinha              de mesocarpo de babaçu, crua      79,2\n",
       " 593 │ 593   Gergelim             semente                           21,6       ⋯\n",
       " 594 │ 594   Linhaça              semente                           43,3\n",
       " 595 │ 595   Pinhão               cozido                            43,9\n",
       " 596 │ 596   Pupunha              cozida                            29,6\n",
       " 597 │ 597   Noz                  crua                              18,4       ⋯\n",
       "\u001b[31m                                                 11 columns and 576 rows omitted\u001b[0m"
      ]
     },
     "execution_count": 3,
     "metadata": {},
     "output_type": "execute_result"
    }
   ],
   "source": [
    "xf = XLSX.readxlsx(\"tabela.xlsx\")\n",
    "tamanho_final = string(xf[\"Tabela1\"])[40:end-1] #tamanho inteiro [35:end-1]  da tabela, \"A1:FX203\"\n",
    "sh = xf[string(\"Tabela1!A1:\",tamanho_final)] #pego a tabela hidr do A3 até o tamanho_final\n",
    "DataFrame(sh[2:end,1:end], Symbol.(sh[1,1:end]))"
   ]
  },
  {
   "cell_type": "code",
   "execution_count": 30,
   "metadata": {},
   "outputs": [
    {
     "data": {
      "text/html": [
       "<table class=\"data-frame\"><thead><tr><th></th><th>Nome</th><th>Preparo</th></tr><tr><th></th><th>Any</th><th>Any</th></tr></thead><tbody><p>9 rows × 2 columns</p><tr><th>1</th><td>Arroz</td><td> tipo 1, cozido</td></tr><tr><th>2</th><td>Banana</td><td> nanica, crua</td></tr><tr><th>3</th><td>Maçã</td><td> Fuji, com casca, crua</td></tr><tr><th>4</th><td>Frango</td><td> peito, sem pele, grelhado</td></tr><tr><th>5</th><td>Leite</td><td> de vaca, desnatado, pó</td></tr><tr><th>6</th><td>Ovo</td><td> de galinha, inteiro, cozido/10minutos</td></tr><tr><th>7</th><td>Feijão</td><td> preto, cozido</td></tr><tr><th>8</th><td>Maionese</td><td> tradicional com ovos</td></tr><tr><th>9</th><td>Azeite</td><td> de oliva, extra virgem</td></tr></tbody></table>"
      ],
      "text/latex": [
       "\\begin{tabular}{r|cc}\n",
       "\t& Nome & Preparo\\\\\n",
       "\t\\hline\n",
       "\t& Any & Any\\\\\n",
       "\t\\hline\n",
       "\t1 & Arroz &  tipo 1, cozido \\\\\n",
       "\t2 & Banana &  nanica, crua \\\\\n",
       "\t3 & Maçã &  Fuji, com casca, crua \\\\\n",
       "\t4 & Frango &  peito, sem pele, grelhado \\\\\n",
       "\t5 & Leite &  de vaca, desnatado, pó \\\\\n",
       "\t6 & Ovo &  de galinha, inteiro, cozido/10minutos \\\\\n",
       "\t7 & Feijão &  preto, cozido \\\\\n",
       "\t8 & Maionese &  tradicional com ovos \\\\\n",
       "\t9 & Azeite &  de oliva, extra virgem \\\\\n",
       "\\end{tabular}\n"
      ],
      "text/plain": [
       "\u001b[1m9×2 DataFrame\u001b[0m\n",
       "\u001b[1m Row \u001b[0m│\u001b[1m Nome     \u001b[0m\u001b[1m Preparo                           \u001b[0m\n",
       "\u001b[1m     \u001b[0m│\u001b[90m Any      \u001b[0m\u001b[90m Any                               \u001b[0m\n",
       "─────┼─────────────────────────────────────────────\n",
       "   1 │ Arroz      tipo 1, cozido\n",
       "   2 │ Banana     nanica, crua\n",
       "   3 │ Maçã       Fuji, com casca, crua\n",
       "   4 │ Frango     peito, sem pele, grelhado\n",
       "   5 │ Leite      de vaca, desnatado, pó\n",
       "   6 │ Ovo        de galinha, inteiro, cozido/10m…\n",
       "   7 │ Feijão     preto, cozido\n",
       "   8 │ Maionese   tradicional com ovos\n",
       "   9 │ Azeite     de oliva, extra virgem"
      ]
     },
     "execution_count": 30,
     "metadata": {},
     "output_type": "execute_result"
    }
   ],
   "source": [
    "elementos = [3; 179; 222; 410; 456; 488; 567; 524; 260]\n",
    "#peso = [5 2.5 2.5 5 1.5 2.5 2.5 1.5 1.5]\n",
    "elementos .+= 1\n",
    "col = [2; 4; 5; 6; 7]\n",
    "DataFrame(sh[elementos,[2,3]], Symbol.(sh[1,[2,3]]))"
   ]
  },
  {
   "cell_type": "code",
   "execution_count": 8,
   "metadata": {},
   "outputs": [
    {
     "name": "stdout",
     "output_type": "stream",
     "text": [
      "\u001b[1m9×6 DataFrame\u001b[0m\n",
      "\u001b[1m Row \u001b[0m│\u001b[1m Nome     \u001b[0m\u001b[1m Preparo                           \u001b[0m\u001b[1m Carboidrato (g) \u001b[0m\u001b[1m Proteína (g) \u001b[0m\u001b[1m Lipídeos (g) \u001b[0m\u001b[1m Energia (Kcal) \u001b[0m\n",
      "\u001b[1m     \u001b[0m│\u001b[90m Any      \u001b[0m\u001b[90m Any                               \u001b[0m\u001b[90m Any             \u001b[0m\u001b[90m Any          \u001b[0m\u001b[90m Any          \u001b[0m\u001b[90m Any            \u001b[0m\n",
      "─────┼──────────────────────────────────────────────────────────────────────────────────────────────────────────\n",
      "   1 │ Arroz      tipo 1, cozido                    28,1             2,5           0,2           128\n",
      "   2 │ Banana     nanica, crua                      23,8             1,4           0,1           92\n",
      "   3 │ Maçã       Fuji, com casca, crua             15,2             0,3           Tr            56\n",
      "   4 │ Frango     peito, sem pele, grelhado         0,0              32,0          2,5           159\n",
      "   5 │ Leite      de vaca, desnatado, pó            53,0             34,7          0,9           362\n",
      "   6 │ Ovo        de galinha, inteiro, cozido/10m…  0,6              13,3          9,5           146\n",
      "   7 │ Feijão     preto, cozido                     14,0             4,5           0,5           77\n",
      "   8 │ Maionese   tradicional com ovos              7,9              0,6           30,5          302\n",
      "   9 │ Azeite     de oliva, extra virgem            NA               NA            100,0         884\n"
     ]
    }
   ],
   "source": [
    "println(DataFrame(sh[elementos,col], Symbol.(sh[1,col])))"
   ]
  },
  {
   "cell_type": "markdown",
   "metadata": {},
   "source": [
    "| Num | Nome     | Preparo                  | Carboidrato (g) | Proteína (g) | Lipídeos (g) | Energia (Kcal) |\n",
    "|-----|----------|--------------------------|:---------------:|:------------:|:------------:|:--------------:|\n",
    "| 1   | Arroz    | tipo 1, cozido           |       28,1      |      2,5     |      0,2     |       128      |\n",
    "| 2   | Banana   | nanica, crua             |       23,8      |      1,4     |      0,1     |       92       |\n",
    "| 3   | Maçã     | Fuji, c\\ casca, crua     |       15,2      |      0,3     |      Tr      |       56       |\n",
    "| 4   | Frango   | peito, s\\ pele, grelhado |       0,0       |     32,0     |      2,5     |       159      |\n",
    "| 5   | Leite    | vaca, desnatado, pó      |       53,0      |     34,7     |      0,9     |       362      |\n",
    "| 6   | Ovo      | de galinha, cozido       |       0,6       |     13,3     |      9,5     |       146      |\n",
    "| 7   | Feijão   | preto, cozido            |       14,0      |      4,5     |      0,5     |       77       |\n",
    "| 8   | Maionese | tradicional com ovos     |       7,9       |      0,6     |     30,5     |       302      |\n",
    "| 9   | Azeite   | de oliva, extra virgem   |        NA       |      NA      |     100,0    |       884      |"
   ]
  },
  {
   "cell_type": "code",
   "execution_count": 25,
   "metadata": {},
   "outputs": [
    {
     "data": {
      "text/html": [
       "<table class=\"data-frame\"><thead><tr><th></th><th>Inf g</th><th>Alimento</th><th>Sup g</th></tr><tr><th></th><th>Any</th><th>Any</th><th>Any</th></tr></thead><tbody><p>9 rows × 3 columns</p><tr><th>1</th><td>100</td><td>Arroz</td><td>500</td></tr><tr><th>2</th><td>100</td><td>Banana</td><td>250</td></tr><tr><th>3</th><td>100</td><td>Maçã</td><td>150</td></tr><tr><th>4</th><td>100</td><td>Frango</td><td>500</td></tr><tr><th>5</th><td>50</td><td>Leite</td><td>250</td></tr><tr><th>6</th><td>50</td><td>Ovo</td><td>200</td></tr><tr><th>7</th><td>50</td><td>Feijão</td><td>200</td></tr><tr><th>8</th><td>50</td><td>Maionese</td><td>100</td></tr><tr><th>9</th><td>10</td><td>Azeite</td><td>100</td></tr></tbody></table>"
      ],
      "text/latex": [
       "\\begin{tabular}{r|ccc}\n",
       "\t& Inf g & Alimento & Sup g\\\\\n",
       "\t\\hline\n",
       "\t& Any & Any & Any\\\\\n",
       "\t\\hline\n",
       "\t1 & 100 & Arroz & 500 \\\\\n",
       "\t2 & 100 & Banana & 250 \\\\\n",
       "\t3 & 100 & Maçã & 150 \\\\\n",
       "\t4 & 100 & Frango & 500 \\\\\n",
       "\t5 & 50 & Leite & 250 \\\\\n",
       "\t6 & 50 & Ovo & 200 \\\\\n",
       "\t7 & 50 & Feijão & 200 \\\\\n",
       "\t8 & 50 & Maionese & 100 \\\\\n",
       "\t9 & 10 & Azeite & 100 \\\\\n",
       "\\end{tabular}\n"
      ],
      "text/plain": [
       "\u001b[1m9×3 DataFrame\u001b[0m\n",
       "\u001b[1m Row \u001b[0m│\u001b[1m Inf g \u001b[0m\u001b[1m Alimento \u001b[0m\u001b[1m Sup g \u001b[0m\n",
       "\u001b[1m     \u001b[0m│\u001b[90m Any   \u001b[0m\u001b[90m Any      \u001b[0m\u001b[90m Any   \u001b[0m\n",
       "─────┼────────────────────────\n",
       "   1 │ 100    Arroz     500\n",
       "   2 │ 100    Banana    250\n",
       "   3 │ 100    Maçã      150\n",
       "   4 │ 100    Frango    500\n",
       "   5 │ 50     Leite     250\n",
       "   6 │ 50     Ovo       200\n",
       "   7 │ 50     Feijão    200\n",
       "   8 │ 50     Maionese  100\n",
       "   9 │ 10     Azeite    100"
      ]
     },
     "execution_count": 25,
     "metadata": {},
     "output_type": "execute_result"
    }
   ],
   "source": [
    "Limite_inf, Limite_sup = ones(length(elementos),1),ones(length(elementos),1)\n",
    "\n",
    "Limite_inf[:] = [100; 100; 100; 100; 50; 50; 50; 50; 10]/100\n",
    "\n",
    "Limite_sup[:] = [500; 250; 150; 500; 250; 200; 200; 100; 100]/100\n",
    "\n",
    "Limite_inf = convert(Array{Any,2}, Limite_inf)\n",
    "Limite_sup = convert(Array{Any,2}, Limite_sup)\n",
    "\n",
    "DataFrame([Int64.(Limite_inf*100) sh[elementos,[2]] Int64.(Limite_sup*100)], [\"Inf g\", \"Alimento\", \"Sup g\"])"
   ]
  },
  {
   "cell_type": "code",
   "execution_count": 26,
   "metadata": {},
   "outputs": [
    {
     "data": {
      "text/plain": [
       "\"\""
      ]
     },
     "execution_count": 26,
     "metadata": {},
     "output_type": "execute_result"
    }
   ],
   "source": [
    "Limite_inf = convert(Array{Float64,2}, Limite_inf)\n",
    "Limite_sup = convert(Array{Float64,2}, Limite_sup)\n",
    "\"\""
   ]
  },
  {
   "cell_type": "code",
   "execution_count": 32,
   "metadata": {},
   "outputs": [
    {
     "data": {
      "text/html": [
       "<table class=\"data-frame\"><thead><tr><th></th><th>Produto</th><th>Carb</th><th>Prot</th><th>Gord</th><th>Calorias</th><th>Inf</th><th>Sup</th></tr><tr><th></th><th>Any</th><th>Any</th><th>Any</th><th>Any</th><th>Any</th><th>Any</th><th>Any</th></tr></thead><tbody><p>9 rows × 7 columns</p><tr><th>1</th><td>Arroz</td><td>28.1</td><td>2.5</td><td>0.2</td><td>128</td><td>1.0</td><td>5.0</td></tr><tr><th>2</th><td>Banana</td><td>23.8</td><td>1.4</td><td>0.1</td><td>92</td><td>1.0</td><td>2.5</td></tr><tr><th>3</th><td>Maçã</td><td>15.2</td><td>0.3</td><td>0.0</td><td>56</td><td>1.0</td><td>1.5</td></tr><tr><th>4</th><td>Frango</td><td>0.0</td><td>32.0</td><td>2.5</td><td>159</td><td>1.0</td><td>5.0</td></tr><tr><th>5</th><td>Leite</td><td>53.0</td><td>34.7</td><td>0.9</td><td>362</td><td>0.5</td><td>2.5</td></tr><tr><th>6</th><td>Ovo</td><td>0.6</td><td>13.3</td><td>9.5</td><td>146</td><td>0.5</td><td>2.0</td></tr><tr><th>7</th><td>Feijão</td><td>14.0</td><td>4.5</td><td>0.5</td><td>77</td><td>0.5</td><td>2.0</td></tr><tr><th>8</th><td>Maionese</td><td>7.9</td><td>0.6</td><td>30.5</td><td>302</td><td>0.5</td><td>1.0</td></tr><tr><th>9</th><td>Azeite</td><td>0.0</td><td>0.0</td><td>100.0</td><td>884</td><td>0.1</td><td>1.0</td></tr></tbody></table>"
      ],
      "text/latex": [
       "\\begin{tabular}{r|ccccccc}\n",
       "\t& Produto & Carb & Prot & Gord & Calorias & Inf & Sup\\\\\n",
       "\t\\hline\n",
       "\t& Any & Any & Any & Any & Any & Any & Any\\\\\n",
       "\t\\hline\n",
       "\t1 & Arroz & 28.1 & 2.5 & 0.2 & 128 & 1.0 & 5.0 \\\\\n",
       "\t2 & Banana & 23.8 & 1.4 & 0.1 & 92 & 1.0 & 2.5 \\\\\n",
       "\t3 & Maçã & 15.2 & 0.3 & 0.0 & 56 & 1.0 & 1.5 \\\\\n",
       "\t4 & Frango & 0.0 & 32.0 & 2.5 & 159 & 1.0 & 5.0 \\\\\n",
       "\t5 & Leite & 53.0 & 34.7 & 0.9 & 362 & 0.5 & 2.5 \\\\\n",
       "\t6 & Ovo & 0.6 & 13.3 & 9.5 & 146 & 0.5 & 2.0 \\\\\n",
       "\t7 & Feijão & 14.0 & 4.5 & 0.5 & 77 & 0.5 & 2.0 \\\\\n",
       "\t8 & Maionese & 7.9 & 0.6 & 30.5 & 302 & 0.5 & 1.0 \\\\\n",
       "\t9 & Azeite & 0.0 & 0.0 & 100.0 & 884 & 0.1 & 1.0 \\\\\n",
       "\\end{tabular}\n"
      ],
      "text/plain": [
       "\u001b[1m9×7 DataFrame\u001b[0m\n",
       "\u001b[1m Row \u001b[0m│\u001b[1m Produto  \u001b[0m\u001b[1m Carb \u001b[0m\u001b[1m Prot \u001b[0m\u001b[1m Gord  \u001b[0m\u001b[1m Calorias \u001b[0m\u001b[1m Inf \u001b[0m\u001b[1m Sup \u001b[0m\n",
       "\u001b[1m     \u001b[0m│\u001b[90m Any      \u001b[0m\u001b[90m Any  \u001b[0m\u001b[90m Any  \u001b[0m\u001b[90m Any   \u001b[0m\u001b[90m Any      \u001b[0m\u001b[90m Any \u001b[0m\u001b[90m Any \u001b[0m\n",
       "─────┼─────────────────────────────────────────────────\n",
       "   1 │ Arroz     28.1  2.5   0.2    128       1.0  5.0\n",
       "   2 │ Banana    23.8  1.4   0.1    92        1.0  2.5\n",
       "   3 │ Maçã      15.2  0.3   0.0    56        1.0  1.5\n",
       "   4 │ Frango    0.0   32.0  2.5    159       1.0  5.0\n",
       "   5 │ Leite     53.0  34.7  0.9    362       0.5  2.5\n",
       "   6 │ Ovo       0.6   13.3  9.5    146       0.5  2.0\n",
       "   7 │ Feijão    14.0  4.5   0.5    77        0.5  2.0\n",
       "   8 │ Maionese  7.9   0.6   30.5   302       0.5  1.0\n",
       "   9 │ Azeite    0.0   0.0   100.0  884       0.1  1.0"
      ]
     },
     "execution_count": 32,
     "metadata": {},
     "output_type": "execute_result"
    }
   ],
   "source": [
    "df = sh[elementos,col]\n",
    "aux1 = replace.(df[1:end, 1:end-1], \"Tr\" => \"0\")\n",
    "aux1 = replace.(aux1, \"NA\" => \"0\")\n",
    "aux = parse.(Float64,replace.(aux1[1:end, 2:end], \",\" => \".\"))\n",
    "\n",
    "name = [:Produto , :Carb, :Prot, :Gord, :Calorias, :Inf, :Sup]\n",
    "\n",
    "df = DataFrame([df[1:end, 1] aux df[1:end, end] Limite_inf Limite_sup],  name)"
   ]
  },
  {
   "cell_type": "markdown",
   "metadata": {},
   "source": [
    "## Distribuição de Calorias\n",
    "***"
   ]
  },
  {
   "cell_type": "code",
   "execution_count": 33,
   "metadata": {},
   "outputs": [
    {
     "data": {
      "text/plain": [
       "distribuicao (generic function with 1 method)"
      ]
     },
     "execution_count": 33,
     "metadata": {},
     "output_type": "execute_result"
    }
   ],
   "source": [
    "function distribuicao(p,g, kg, gct;def = 0.2, pref = \"gramas\")\n",
    "    dist = [p g].*[4 9]\n",
    "\n",
    "    prot_cal, gord_cal = kg*dist\n",
    "    carb_cal = gct - prot_cal - gord_cal\n",
    "    carb_cal = carb_cal*(1 - def)\n",
    "\n",
    "    carb_g = carb_cal/4\n",
    "    prot_g = prot_cal/4\n",
    "    gord_g = gord_cal/9\n",
    "    if pref == \"gramas\"\n",
    "        return carb_g, prot_g, gord_g\n",
    "    end\n",
    "    return carb_cal, prot_cal, gord_cal\n",
    "end"
   ]
  },
  {
   "cell_type": "code",
   "execution_count": 34,
   "metadata": {},
   "outputs": [
    {
     "data": {
      "text/html": [
       "<table class=\"data-frame\"><thead><tr><th></th><th>Macros</th><th>Gramas</th><th>Calorias</th></tr><tr><th></th><th>String</th><th>Float64</th><th>Float64</th></tr></thead><tbody><p>3 rows × 3 columns</p><tr><th>1</th><td>Carboidratos</td><td>336.957</td><td>1347.83</td></tr><tr><th>2</th><td>Proteínas</td><td>128.0</td><td>512.0</td></tr><tr><th>3</th><td>Gorduras</td><td>64.0</td><td>576.0</td></tr></tbody></table>"
      ],
      "text/latex": [
       "\\begin{tabular}{r|ccc}\n",
       "\t& Macros & Gramas & Calorias\\\\\n",
       "\t\\hline\n",
       "\t& String & Float64 & Float64\\\\\n",
       "\t\\hline\n",
       "\t1 & Carboidratos & 336.957 & 1347.83 \\\\\n",
       "\t2 & Proteínas & 128.0 & 512.0 \\\\\n",
       "\t3 & Gorduras & 64.0 & 576.0 \\\\\n",
       "\\end{tabular}\n"
      ],
      "text/plain": [
       "\u001b[1m3×3 DataFrame\u001b[0m\n",
       "\u001b[1m Row \u001b[0m│\u001b[1m Macros       \u001b[0m\u001b[1m Gramas  \u001b[0m\u001b[1m Calorias \u001b[0m\n",
       "\u001b[1m     \u001b[0m│\u001b[90m String       \u001b[0m\u001b[90m Float64 \u001b[0m\u001b[90m Float64  \u001b[0m\n",
       "─────┼─────────────────────────────────\n",
       "   1 │ Carboidratos  336.957   1347.83\n",
       "   2 │ Proteínas     128.0      512.0\n",
       "   3 │ Gorduras       64.0      576.0"
      ]
     },
     "execution_count": 34,
     "metadata": {},
     "output_type": "execute_result"
    }
   ],
   "source": [
    "prot, gord = 2.0, 1.0\n",
    "\n",
    "carb_g, prot_g, gord_g = distribuicao(prot, gord, kg_m, gct_m)\n",
    "carb_cal, prot_cal, gord_cal = distribuicao(prot, gord, kg_m, gct_m, pref = \"calorias\")\n",
    "\n",
    "DataFrame([[\"Carboidratos\"; \"Proteínas\"; \"Gorduras\"], [carb_g; prot_g; gord_g], [carb_cal; prot_cal; gord_cal]], [\"Macros\", \"Gramas\", \"Calorias\"])"
   ]
  },
  {
   "cell_type": "code",
   "execution_count": 35,
   "metadata": {},
   "outputs": [
    {
     "data": {
      "text/html": [
       "<table class=\"data-frame\"><thead><tr><th></th><th>Carb</th><th>Prot</th><th>Gord</th></tr><tr><th></th><th>Float64</th><th>Float64</th><th>Float64</th></tr></thead><tbody><p>9 rows × 3 columns</p><tr><th>1</th><td>112.4</td><td>10.0</td><td>1.8</td></tr><tr><th>2</th><td>95.2</td><td>5.6</td><td>0.9</td></tr><tr><th>3</th><td>60.8</td><td>1.2</td><td>0.0</td></tr><tr><th>4</th><td>0.0</td><td>128.0</td><td>22.5</td></tr><tr><th>5</th><td>212.0</td><td>138.8</td><td>8.1</td></tr><tr><th>6</th><td>2.4</td><td>53.2</td><td>85.5</td></tr><tr><th>7</th><td>56.0</td><td>18.0</td><td>4.5</td></tr><tr><th>8</th><td>31.6</td><td>2.4</td><td>274.5</td></tr><tr><th>9</th><td>0.0</td><td>0.0</td><td>900.0</td></tr></tbody></table>"
      ],
      "text/latex": [
       "\\begin{tabular}{r|ccc}\n",
       "\t& Carb & Prot & Gord\\\\\n",
       "\t\\hline\n",
       "\t& Float64 & Float64 & Float64\\\\\n",
       "\t\\hline\n",
       "\t1 & 112.4 & 10.0 & 1.8 \\\\\n",
       "\t2 & 95.2 & 5.6 & 0.9 \\\\\n",
       "\t3 & 60.8 & 1.2 & 0.0 \\\\\n",
       "\t4 & 0.0 & 128.0 & 22.5 \\\\\n",
       "\t5 & 212.0 & 138.8 & 8.1 \\\\\n",
       "\t6 & 2.4 & 53.2 & 85.5 \\\\\n",
       "\t7 & 56.0 & 18.0 & 4.5 \\\\\n",
       "\t8 & 31.6 & 2.4 & 274.5 \\\\\n",
       "\t9 & 0.0 & 0.0 & 900.0 \\\\\n",
       "\\end{tabular}\n"
      ],
      "text/plain": [
       "\u001b[1m9×3 DataFrame\u001b[0m\n",
       "\u001b[1m Row \u001b[0m│\u001b[1m Carb    \u001b[0m\u001b[1m Prot    \u001b[0m\u001b[1m Gord    \u001b[0m\n",
       "\u001b[1m     \u001b[0m│\u001b[90m Float64 \u001b[0m\u001b[90m Float64 \u001b[0m\u001b[90m Float64 \u001b[0m\n",
       "─────┼───────────────────────────\n",
       "   1 │   112.4     10.0      1.8\n",
       "   2 │    95.2      5.6      0.9\n",
       "   3 │    60.8      1.2      0.0\n",
       "   4 │     0.0    128.0     22.5\n",
       "   5 │   212.0    138.8      8.1\n",
       "   6 │     2.4     53.2     85.5\n",
       "   7 │    56.0     18.0      4.5\n",
       "   8 │    31.6      2.4    274.5\n",
       "   9 │     0.0      0.0    900.0"
      ]
     },
     "execution_count": 35,
     "metadata": {},
     "output_type": "execute_result"
    }
   ],
   "source": [
    "alimentos = length(elementos)\n",
    "aux2 = ones(alimentos,3)\n",
    "aux2[1:end, 1:2] .= 4.\n",
    "aux2[1:end, 3] .= 9.\n",
    "macros = df[1:end, 2:4].*aux2"
   ]
  },
  {
   "cell_type": "code",
   "execution_count": 36,
   "metadata": {},
   "outputs": [
    {
     "data": {
      "text/plain": [
       "1×3 BitArray{2}:\n",
       " 1  1  1"
      ]
     },
     "execution_count": 36,
     "metadata": {},
     "output_type": "execute_result"
    }
   ],
   "source": [
    "maxi = [macros[:, :Carb]'Limite_sup macros[:, :Prot]'Limite_sup macros[:, :Gord]'Limite_sup]\n",
    "maxi .> [carb_cal prot_cal gord_cal]"
   ]
  },
  {
   "cell_type": "markdown",
   "metadata": {},
   "source": [
    "# Modelo Matemático\n",
    "***"
   ]
  },
  {
   "cell_type": "code",
   "execution_count": 209,
   "metadata": {},
   "outputs": [
    {
     "data": {
      "text/plain": [
       "\"\""
      ]
     },
     "execution_count": 209,
     "metadata": {},
     "output_type": "execute_result"
    }
   ],
   "source": [
    "optimizer = Juniper.Optimizer\n",
    "nl_solver = optimizer_with_attributes(Ipopt.Optimizer, \"print_level\" => 0)\n",
    "model = Model(optimizer_with_attributes(optimizer, \"nl_solver\" => nl_solver))#,\"mip_solver\"=>mip_solver))\n",
    "\n",
    "@variable(model, quantidade_alimento[i = 1:alimentos] ≥ 0, start = 2)\n",
    "#@variable(model, quantidade[i = 1:alimentos], Bin)\n",
    "\n",
    "@objective(model, Max, sum(quantidade_alimento[i] for i = 1:alimentos)/10) #/10 retorna a quantidade de alimentos em kg\n",
    "\n",
    "#@constraint(model, meta_calorica,  quantidade_alimento[i]*sum(macros[i,1:3]) - basa ≤ 1e-2)\n",
    "\n",
    "@constraint(model, limitante_comida[i = 1:alimentos],  quantidade_alimento[i] ≤ df[i,:Sup])\n",
    "\n",
    "@constraint(model, meta_carb, -1e-4 ≤ sum(quantidade_alimento[i]*macros[i,1] for i = 1:alimentos) - carb_cal  ≤ 1e-4)\n",
    "\n",
    "@constraint(model, meta_prot, -1e-4 ≤ sum(quantidade_alimento[i]*macros[i,2] for i = 1:alimentos) - prot_cal ≤ 1e-4)\n",
    "\n",
    "@constraint(model, meta_gord, -1e-4 ≤ sum(quantidade_alimento[i]*macros[i,3] for i = 1:alimentos) - gord_cal ≤ 1e-4)\n",
    "\n",
    "\"\""
   ]
  },
  {
   "cell_type": "code",
   "execution_count": 212,
   "metadata": {
    "scrolled": false
   },
   "outputs": [
    {
     "name": "stdout",
     "output_type": "stream",
     "text": [
      "nl_solver         : MathOptInterface.OptimizerWithAttributes(Ipopt.Optimizer, Pair{MathOptInterface.AbstractOptimizerAttribute,Any}[MathOptInterface.RawParameter(\"print_level\") => 0])\n",
      "feasibility_pump  : false\n",
      "log_levels        : [:Options, :Table, :Info]\n"
     ]
    },
    {
     "name": "stderr",
     "output_type": "stream",
     "text": [
      "┌ Info: no explicit NLP constraints or objective provided using @NLconstraint or @NLobjective macros\n",
      "└ @ Juniper C:\\Users\\T-Gamer\\.julia\\packages\\Juniper\\gf4lD\\src\\MOI_wrapper\\MOI_wrapper.jl:345\n"
     ]
    },
    {
     "name": "stdout",
     "output_type": "stream",
     "text": [
      "gain_mu           : 0.833\n",
      "\n",
      "#Variables: 9\n",
      "#IntBinVar: 0\n",
      "#Constraints: 15\n",
      "#Linear Constraints: 15\n",
      "#Quadratic Constraints: 0\n",
      "#NonLinear Constraints: 0\n",
      "Obj Sense: Max\n",
      "\n",
      "Incumbent using start values: 1.6321976591728062\n",
      "Status of relaxation: LOCALLY_SOLVED\n",
      "Time for relaxation: 0.03000020980834961\n",
      "Relaxation Obj: 1.6321976591728062\n",
      "Obj: 1.6321976591728062\n"
     ]
    },
    {
     "data": {
      "text/html": [
       "<table class=\"data-frame\"><thead><tr><th></th><th>Alimento</th><th>Quantidade</th></tr><tr><th></th><th>Any</th><th>Any</th></tr></thead><tbody><p>9 rows × 2 columns</p><tr><th>1</th><td>Arroz</td><td>500.0</td></tr><tr><th>2</th><td>Banana</td><td>250.0</td></tr><tr><th>3</th><td>Maçã</td><td>150.0</td></tr><tr><th>4</th><td>Frango</td><td>77.8099</td></tr><tr><th>5</th><td>Leite</td><td>145.391</td></tr><tr><th>6</th><td>Ovo</td><td>200.0</td></tr><tr><th>7</th><td>Feijão</td><td>200.0</td></tr><tr><th>8</th><td>Maionese</td><td>100.0</td></tr><tr><th>9</th><td>Azeite</td><td>8.99624</td></tr></tbody></table>"
      ],
      "text/latex": [
       "\\begin{tabular}{r|cc}\n",
       "\t& Alimento & Quantidade\\\\\n",
       "\t\\hline\n",
       "\t& Any & Any\\\\\n",
       "\t\\hline\n",
       "\t1 & Arroz & 500.0 \\\\\n",
       "\t2 & Banana & 250.0 \\\\\n",
       "\t3 & Maçã & 150.0 \\\\\n",
       "\t4 & Frango & 77.8099 \\\\\n",
       "\t5 & Leite & 145.391 \\\\\n",
       "\t6 & Ovo & 200.0 \\\\\n",
       "\t7 & Feijão & 200.0 \\\\\n",
       "\t8 & Maionese & 100.0 \\\\\n",
       "\t9 & Azeite & 8.99624 \\\\\n",
       "\\end{tabular}\n"
      ],
      "text/plain": [
       "\u001b[1m9×2 DataFrame\u001b[0m\n",
       "\u001b[1m Row \u001b[0m│\u001b[1m Alimento \u001b[0m\u001b[1m Quantidade \u001b[0m\n",
       "\u001b[1m     \u001b[0m│\u001b[90m Any      \u001b[0m\u001b[90m Any        \u001b[0m\n",
       "─────┼──────────────────────\n",
       "   1 │ Arroz     500.0\n",
       "   2 │ Banana    250.0\n",
       "   3 │ Maçã      150.0\n",
       "   4 │ Frango    77.8099\n",
       "   5 │ Leite     145.391\n",
       "   6 │ Ovo       200.0\n",
       "   7 │ Feijão    200.0\n",
       "   8 │ Maionese  100.0\n",
       "   9 │ Azeite    8.99624"
      ]
     },
     "execution_count": 212,
     "metadata": {},
     "output_type": "execute_result"
    }
   ],
   "source": [
    "optimize!(model)\n",
    "\n",
    "if typeof(objective_value(model)) == typeof(1.)\n",
    "    g = value.(quantidade_alimento)\n",
    "    #q = value.(quantidade)\n",
    "\n",
    "    posic = findall(x -> x > 1e-5, g)\n",
    "\n",
    "    d = DataFrame([df[posic,1] 100*g[posic]], [:Alimento, :Quantidade])\n",
    "end\n",
    "d"
   ]
  },
  {
   "cell_type": "markdown",
   "metadata": {},
   "source": [
    "# Mais detalhes ao modelo\n",
    "***"
   ]
  },
  {
   "cell_type": "code",
   "execution_count": 22,
   "metadata": {},
   "outputs": [],
   "source": [
    "import XLSX\n",
    "using JuMP, Juniper, Ipopt\n",
    "using LinearAlgebra\n",
    "using DataFrames\n",
    "\n",
    "if ~occursin(\"Dieta\", pwd())\n",
    "    try\n",
    "        cd(\"Desktop/Dieta\")\n",
    "    catch\n",
    "        nothing\n",
    "    end\n",
    "end"
   ]
  },
  {
   "cell_type": "code",
   "execution_count": 2,
   "metadata": {},
   "outputs": [
    {
     "data": {
      "text/plain": [
       "basal_Harris_Benedict (generic function with 2 methods)"
      ]
     },
     "execution_count": 2,
     "metadata": {},
     "output_type": "execute_result"
    }
   ],
   "source": [
    "#Utilizar com ativos fisicamente, objetivo: aumento de peso e massa magra.\n",
    "#SUPERESTIMA O BASAL\n",
    "function basal_Harris_Benedict(peso_kg, altura_cm, idade, sexo = 0)\n",
    "    if sexo == 0 #homem\n",
    "        return 66 + (13.8*peso_kg) + (5*altura_cm) - (6.8*idade)\n",
    "    else #mulher\n",
    "        return 665 + (9.6*peso_kg) + (1.9*altura_cm) - (4.7*idade)\n",
    "    end\n",
    "end"
   ]
  },
  {
   "cell_type": "code",
   "execution_count": 3,
   "metadata": {},
   "outputs": [
    {
     "data": {
      "text/plain": [
       "basal_FAO_OMS (generic function with 2 methods)"
      ]
     },
     "execution_count": 3,
     "metadata": {},
     "output_type": "execute_result"
    }
   ],
   "source": [
    "function basal_FAO_OMS(peso_kg, idade, sexo = 0)\n",
    "    if sexo == 0 #homem\n",
    "        if 10 ≤ idade < 18\n",
    "            return (17.686*peso_kg) + 658.2\n",
    "        elseif  18 ≤ idade < 30\n",
    "            return (15.057*peso_kg) + 692.2\n",
    "        elseif 30 ≤ idade < 60\n",
    "            return (11.472*peso_kg) + 873.1\n",
    "        else\n",
    "            return (11.711*peso_kg) + 587.7\n",
    "        end\n",
    "    else #mulher\n",
    "        if 10 ≤ idade < 18\n",
    "            return (13.384*peso_kg) + 692.6\n",
    "        elseif  18 ≤ idade < 30\n",
    "            return (14.818*peso_kg) + 486.6\n",
    "        elseif 30 ≤ idade < 60\n",
    "            return (8.126*peso_kg) + 845.6\n",
    "        else\n",
    "            return \t(9.082*peso_kg) + 658.5\n",
    "        end\n",
    "    end\n",
    "end"
   ]
  },
  {
   "cell_type": "code",
   "execution_count": 4,
   "metadata": {},
   "outputs": [
    {
     "data": {
      "text/plain": [
       "basal_Mifflin_St_Jeor (generic function with 2 methods)"
      ]
     },
     "execution_count": 4,
     "metadata": {},
     "output_type": "execute_result"
    }
   ],
   "source": [
    "#objetivo de emagrecimento.\n",
    "#MAIS PRECISA QUE Harris_Benedict\n",
    "function basal_Mifflin_St_Jeor(peso_kg, altura_cm, idade, sexo = 0)\n",
    "    if sexo == 0 #homem\n",
    "        return (10*peso_kg) + (6.25*altura_cm) - (5*idade) + 5\n",
    "    else #mulher\n",
    "        return (10*peso_kg) + (6.25*altura_cm) - (5*idade) - 161\n",
    "    end\n",
    "end"
   ]
  },
  {
   "cell_type": "code",
   "execution_count": 6,
   "metadata": {},
   "outputs": [
    {
     "data": {
      "text/plain": [
       "basal_Cunningham_Tinsley (generic function with 1 method)"
      ]
     },
     "execution_count": 6,
     "metadata": {},
     "output_type": "execute_result"
    }
   ],
   "source": [
    "#individuos ativos fisicamente e que possuem alto volume muscular e baixo percentual de gordura.\n",
    "function basal_Cunningham_Tinsley(peso_kg, massa_magra; tipo = 1)\n",
    "    if tipo == 1 #Cunningham (MLG)\n",
    "        return (22*massa_magra) + 500\n",
    "    elseif tipo == 2 #Tinsley (MLG)\n",
    "        return (25.9*massa_magra) + 284\n",
    "    else #Tinsley (P)\n",
    "        return (24.8*peso_kg) + 10\n",
    "    end\n",
    "end"
   ]
  },
  {
   "cell_type": "code",
   "execution_count": 7,
   "metadata": {},
   "outputs": [
    {
     "data": {
      "text/plain": [
       "\"Ativo\""
      ]
     },
     "execution_count": 7,
     "metadata": {},
     "output_type": "execute_result"
    }
   ],
   "source": [
    "kg = 64\n",
    "age = 21\n",
    "altura = 162\n",
    "massa_magra = kg*(1 - (22.15 + 6)/100) #22.15% de gordura, 6% de óssos e etc.\n",
    "atividades = \"Ativo\""
   ]
  },
  {
   "cell_type": "markdown",
   "metadata": {},
   "source": [
    "# Verificando o Gasto Calórico Basal e Total\n",
    "***"
   ]
  },
  {
   "cell_type": "code",
   "execution_count": 39,
   "metadata": {},
   "outputs": [
    {
     "name": "stdout",
     "output_type": "stream",
     "text": [
      "Gasto Basal:\n",
      "Harris Benedict - 1616.4\n",
      "FAO OMS - 1655.848\n",
      "Mifflin St.Jeor - 1552.5\n",
      "Cunningham Tinsley_1 - 1511.6480000000001\n",
      "Cunningham Tinsley_2 - 1474.9856\n",
      "Cunningham Tinsley_3 - 1597.2\n"
     ]
    }
   ],
   "source": [
    "set_basal = [basal_Harris_Benedict(kg_m, altura_m, age_m),\n",
    "            basal_FAO_OMS(kg_m, age_m),\n",
    "            basal_Mifflin_St_Jeor(kg_m, altura_m, age_m),\n",
    "            basal_Cunningham_Tinsley(kg_m, massa_magra_m, tipo = 1),\n",
    "            basal_Cunningham_Tinsley(kg_m, massa_magra_m, tipo = 2),\n",
    "            basal_Cunningham_Tinsley(kg_m, massa_magra_m, tipo = 3)]\n",
    "println(\"Gasto Basal:\")\n",
    "name = [\"Harris Benedict\", \"FAO OMS\", \"Mifflin St.Jeor\", \"Cunningham Tinsley_1\", \"Cunningham Tinsley_2\", \"Cunningham Tinsley_3\"]\n",
    "for i = 1:6\n",
    "    println(name[i], \" - \", set_basal[i])\n",
    "end"
   ]
  },
  {
   "cell_type": "code",
   "execution_count": 40,
   "metadata": {},
   "outputs": [
    {
     "data": {
      "text/html": [
       "<table class=\"data-frame\"><thead><tr><th></th><th>Nomes</th><th>Basal</th></tr><tr><th></th><th>String</th><th>Float64</th></tr></thead><tbody><p>6 rows × 2 columns</p><tr><th>1</th><td>Harris Benedict</td><td>1616.4</td></tr><tr><th>2</th><td>FAO OMS</td><td>1655.85</td></tr><tr><th>3</th><td>Mifflin St.Jeor</td><td>1552.5</td></tr><tr><th>4</th><td>Cunningham Tinsley_1</td><td>1511.65</td></tr><tr><th>5</th><td>Cunningham Tinsley_2</td><td>1474.99</td></tr><tr><th>6</th><td>Cunningham Tinsley_3</td><td>1597.2</td></tr></tbody></table>"
      ],
      "text/latex": [
       "\\begin{tabular}{r|cc}\n",
       "\t& Nomes & Basal\\\\\n",
       "\t\\hline\n",
       "\t& String & Float64\\\\\n",
       "\t\\hline\n",
       "\t1 & Harris Benedict & 1616.4 \\\\\n",
       "\t2 & FAO OMS & 1655.85 \\\\\n",
       "\t3 & Mifflin St.Jeor & 1552.5 \\\\\n",
       "\t4 & Cunningham Tinsley\\_1 & 1511.65 \\\\\n",
       "\t5 & Cunningham Tinsley\\_2 & 1474.99 \\\\\n",
       "\t6 & Cunningham Tinsley\\_3 & 1597.2 \\\\\n",
       "\\end{tabular}\n"
      ],
      "text/plain": [
       "\u001b[1m6×2 DataFrame\u001b[0m\n",
       "\u001b[1m Row \u001b[0m│\u001b[1m Nomes                \u001b[0m\u001b[1m Basal   \u001b[0m\n",
       "\u001b[1m     \u001b[0m│\u001b[90m String               \u001b[0m\u001b[90m Float64 \u001b[0m\n",
       "─────┼───────────────────────────────\n",
       "   1 │ Harris Benedict       1616.4\n",
       "   2 │ FAO OMS               1655.85\n",
       "   3 │ Mifflin St.Jeor       1552.5\n",
       "   4 │ Cunningham Tinsley_1  1511.65\n",
       "   5 │ Cunningham Tinsley_2  1474.99\n",
       "   6 │ Cunningham Tinsley_3  1597.2"
      ]
     },
     "execution_count": 40,
     "metadata": {},
     "output_type": "execute_result"
    }
   ],
   "source": [
    "DataFrame(Nomes = name, Basal = set_basal)"
   ]
  },
  {
   "cell_type": "code",
   "execution_count": 43,
   "metadata": {},
   "outputs": [
    {
     "name": "stdout",
     "output_type": "stream",
     "text": [
      "João - 1584.45\n"
     ]
    }
   ],
   "source": [
    "basa = (set_basal[1] + set_basal[3])/2\n",
    "println(\"João - \", basa)"
   ]
  },
  {
   "cell_type": "code",
   "execution_count": 45,
   "metadata": {},
   "outputs": [
    {
     "name": "stdout",
     "output_type": "stream",
     "text": [
      "Gasto Total Calórico - 2772.7875\n"
     ]
    }
   ],
   "source": [
    "atividades = atividades_m\n",
    "gasto_total = 1.\n",
    "if atividades == \"Sedentario\"\n",
    "    gasto_total = 1.2*basa #1 a 1.39\n",
    "elseif atividades == \"Pouco ativo\"\n",
    "    gasto_total = 1.45*basa #1.4 a 1.59\n",
    "elseif atividades == \"Ativo\"\n",
    "    gasto_total = 1.75*basa #1.6 a 1.89\n",
    "else #Muito Ativo\n",
    "    gasto_total = 2.2*basa #1.9 a 2.5\n",
    "end\n",
    "basa = gasto_total\n",
    "println(\"Gasto Total Calórico - \", gasto_total)"
   ]
  },
  {
   "cell_type": "markdown",
   "metadata": {},
   "source": [
    "# Definindo os Alimentos\n",
    "***"
   ]
  },
  {
   "cell_type": "code",
   "execution_count": 40,
   "metadata": {},
   "outputs": [
    {
     "data": {
      "text/plain": [
       "9×5 Array{Any,2}:\n",
       " \"Arroz\"     28.1   2.5    0.2  128\n",
       " \"Banana\"    23.8   1.4    0.1   92\n",
       " \"Maçã\"      15.2   0.3    0.0   56\n",
       " \"Frango\"     0.0  32.0    2.5  159\n",
       " \"Leite\"     53.0  34.7    0.9  362\n",
       " \"Ovo\"        0.6  13.3    9.5  146\n",
       " \"Feijão\"    14.0   4.5    0.5   77\n",
       " \"Maionese\"   7.9   0.6   30.5  302\n",
       " \"Azeite\"     0.0   0.0  100.0  884"
      ]
     },
     "execution_count": 40,
     "metadata": {},
     "output_type": "execute_result"
    }
   ],
   "source": [
    "xf = XLSX.readxlsx(\"tabela.xlsx\")\n",
    "tamanho_final = string(xf[\"Tabela1\"])[40:end-1] #tamanho inteiro [35:end-1]  da tabela, \"A1:FX203\"\n",
    "sh = xf[string(\"Tabela1!A1:\",tamanho_final)] #pego a tabela hidr do A3 até o tamanho_final\n",
    "\n",
    "elementos = [3; 179; 222; 410; 456; 488; 567; 524; 260]\n",
    "#peso = [5 2.5 2.5 5 1.5 2.5 2.5 1.5 1.5]\n",
    "elementos .+= 1\n",
    "\n",
    "col = [2; 4; 5; 6; 7]\n",
    "\n",
    "df = sh[elementos,col]\n",
    "aux1 = replace.(df[1:end, 1:end-1], \"Tr\" => \"0\")\n",
    "aux1 = replace.(aux1, \"NA\" => \"0\")\n",
    "aux = parse.(Float64,replace.(aux1[1:end, 2:end], \",\" => \".\"))\n",
    "\n",
    "df = [df[1:end, 1] aux df[1:end, end]]"
   ]
  },
  {
   "cell_type": "code",
   "execution_count": 70,
   "metadata": {},
   "outputs": [
    {
     "data": {
      "text/plain": [
       "2372.7875"
      ]
     },
     "execution_count": 70,
     "metadata": {},
     "output_type": "execute_result"
    }
   ],
   "source": []
  },
  {
   "cell_type": "code",
   "execution_count": 72,
   "metadata": {},
   "outputs": [
    {
     "data": {
      "text/html": [
       "<table class=\"data-frame\"><thead><tr><th></th><th>Carb</th><th>Prot</th><th>Gord</th></tr><tr><th></th><th>Float64</th><th>Float64</th><th>Float64</th></tr></thead><tbody><p>9 rows × 3 columns</p><tr><th>1</th><td>112.4</td><td>10.0</td><td>1.8</td></tr><tr><th>2</th><td>95.2</td><td>5.6</td><td>0.9</td></tr><tr><th>3</th><td>60.8</td><td>1.2</td><td>0.0</td></tr><tr><th>4</th><td>0.0</td><td>128.0</td><td>22.5</td></tr><tr><th>5</th><td>212.0</td><td>138.8</td><td>8.1</td></tr><tr><th>6</th><td>2.4</td><td>53.2</td><td>85.5</td></tr><tr><th>7</th><td>56.0</td><td>18.0</td><td>4.5</td></tr><tr><th>8</th><td>31.6</td><td>2.4</td><td>274.5</td></tr><tr><th>9</th><td>0.0</td><td>0.0</td><td>900.0</td></tr></tbody></table>"
      ],
      "text/latex": [
       "\\begin{tabular}{r|ccc}\n",
       "\t& Carb & Prot & Gord\\\\\n",
       "\t\\hline\n",
       "\t& Float64 & Float64 & Float64\\\\\n",
       "\t\\hline\n",
       "\t1 & 112.4 & 10.0 & 1.8 \\\\\n",
       "\t2 & 95.2 & 5.6 & 0.9 \\\\\n",
       "\t3 & 60.8 & 1.2 & 0.0 \\\\\n",
       "\t4 & 0.0 & 128.0 & 22.5 \\\\\n",
       "\t5 & 212.0 & 138.8 & 8.1 \\\\\n",
       "\t6 & 2.4 & 53.2 & 85.5 \\\\\n",
       "\t7 & 56.0 & 18.0 & 4.5 \\\\\n",
       "\t8 & 31.6 & 2.4 & 274.5 \\\\\n",
       "\t9 & 0.0 & 0.0 & 900.0 \\\\\n",
       "\\end{tabular}\n"
      ],
      "text/plain": [
       "\u001b[1m9×3 DataFrame\u001b[0m\n",
       "\u001b[1m Row \u001b[0m│\u001b[1m Carb    \u001b[0m\u001b[1m Prot    \u001b[0m\u001b[1m Gord    \u001b[0m\n",
       "\u001b[1m     \u001b[0m│\u001b[90m Float64 \u001b[0m\u001b[90m Float64 \u001b[0m\u001b[90m Float64 \u001b[0m\n",
       "─────┼───────────────────────────\n",
       "   1 │   112.4     10.0      1.8\n",
       "   2 │    95.2      5.6      0.9\n",
       "   3 │    60.8      1.2      0.0\n",
       "   4 │     0.0    128.0     22.5\n",
       "   5 │   212.0    138.8      8.1\n",
       "   6 │     2.4     53.2     85.5\n",
       "   7 │    56.0     18.0      4.5\n",
       "   8 │    31.6      2.4    274.5\n",
       "   9 │     0.0      0.0    900.0"
      ]
     },
     "execution_count": 72,
     "metadata": {},
     "output_type": "execute_result"
    }
   ],
   "source": [
    "basalll = basa - 400\n",
    "prot_cal, gord_cal = kg_m.*[2.0*4 0.5*9]\n",
    "carb_cal = basalll - prot_cal - gord_cal\n",
    "\n",
    "carb_g = carb_cal/4\n",
    "prot_g = prot_cal/4\n",
    "gord_g = gord_cal/9\n",
    "\n",
    "alimentos = length(elementos)\n",
    "aux2 = ones(alimentos,3)\n",
    "aux2[1:end, 1:2] .= 4.\n",
    "aux2[1:end, 3] .= 9.\n",
    "macros = df[1:end, 2:4].*aux2"
   ]
  },
  {
   "cell_type": "code",
   "execution_count": 73,
   "metadata": {},
   "outputs": [
    {
     "data": {
      "text/html": [
       "<table class=\"data-frame\"><thead><tr><th></th><th>Macros</th><th>Calorias</th></tr><tr><th></th><th>String</th><th>Float64</th></tr></thead><tbody><p>3 rows × 2 columns</p><tr><th>1</th><td>Carboidrato</td><td>1572.79</td></tr><tr><th>2</th><td>Proteina</td><td>512.0</td></tr><tr><th>3</th><td>Gordura</td><td>288.0</td></tr></tbody></table>"
      ],
      "text/latex": [
       "\\begin{tabular}{r|cc}\n",
       "\t& Macros & Calorias\\\\\n",
       "\t\\hline\n",
       "\t& String & Float64\\\\\n",
       "\t\\hline\n",
       "\t1 & Carboidrato & 1572.79 \\\\\n",
       "\t2 & Proteina & 512.0 \\\\\n",
       "\t3 & Gordura & 288.0 \\\\\n",
       "\\end{tabular}\n"
      ],
      "text/plain": [
       "\u001b[1m3×2 DataFrame\u001b[0m\n",
       "\u001b[1m Row \u001b[0m│\u001b[1m Macros      \u001b[0m\u001b[1m Calorias \u001b[0m\n",
       "\u001b[1m     \u001b[0m│\u001b[90m String      \u001b[0m\u001b[90m Float64  \u001b[0m\n",
       "─────┼───────────────────────\n",
       "   1 │ Carboidrato   1572.79\n",
       "   2 │ Proteina       512.0\n",
       "   3 │ Gordura        288.0"
      ]
     },
     "execution_count": 73,
     "metadata": {},
     "output_type": "execute_result"
    }
   ],
   "source": [
    "aux_ones = ones(3)\n",
    "vet_cal = [carb_cal, prot_cal, gord_cal]\n",
    "DataFrame(Macros = [\"Carboidrato\", \"Proteina\", \"Gordura\"], Calorias = vet_cal)"
   ]
  },
  {
   "cell_type": "code",
   "execution_count": 74,
   "metadata": {},
   "outputs": [
    {
     "data": {
      "text/html": [
       "<table class=\"data-frame\"><thead><tr><th></th><th>Inf g</th><th>Alimento</th><th>Sup g</th></tr><tr><th></th><th>Any</th><th>Any</th><th>Any</th></tr></thead><tbody><p>9 rows × 3 columns</p><tr><th>1</th><td>100</td><td>Arroz</td><td>500</td></tr><tr><th>2</th><td>100</td><td>Banana</td><td>300</td></tr><tr><th>3</th><td>100</td><td>Maçã</td><td>200</td></tr><tr><th>4</th><td>100</td><td>Frango</td><td>500</td></tr><tr><th>5</th><td>50</td><td>Leite</td><td>500</td></tr><tr><th>6</th><td>50</td><td>Ovo</td><td>250</td></tr><tr><th>7</th><td>50</td><td>Feijão</td><td>250</td></tr><tr><th>8</th><td>50</td><td>Maionese</td><td>100</td></tr><tr><th>9</th><td>10</td><td>Azeite</td><td>100</td></tr></tbody></table>"
      ],
      "text/latex": [
       "\\begin{tabular}{r|ccc}\n",
       "\t& Inf g & Alimento & Sup g\\\\\n",
       "\t\\hline\n",
       "\t& Any & Any & Any\\\\\n",
       "\t\\hline\n",
       "\t1 & 100 & Arroz & 500 \\\\\n",
       "\t2 & 100 & Banana & 300 \\\\\n",
       "\t3 & 100 & Maçã & 200 \\\\\n",
       "\t4 & 100 & Frango & 500 \\\\\n",
       "\t5 & 50 & Leite & 500 \\\\\n",
       "\t6 & 50 & Ovo & 250 \\\\\n",
       "\t7 & 50 & Feijão & 250 \\\\\n",
       "\t8 & 50 & Maionese & 100 \\\\\n",
       "\t9 & 10 & Azeite & 100 \\\\\n",
       "\\end{tabular}\n"
      ],
      "text/plain": [
       "\u001b[1m9×3 DataFrame\u001b[0m\n",
       "\u001b[1m Row \u001b[0m│\u001b[1m Inf g \u001b[0m\u001b[1m Alimento \u001b[0m\u001b[1m Sup g \u001b[0m\n",
       "\u001b[1m     \u001b[0m│\u001b[90m Any   \u001b[0m\u001b[90m Any      \u001b[0m\u001b[90m Any   \u001b[0m\n",
       "─────┼────────────────────────\n",
       "   1 │ 100    Arroz     500\n",
       "   2 │ 100    Banana    300\n",
       "   3 │ 100    Maçã      200\n",
       "   4 │ 100    Frango    500\n",
       "   5 │ 50     Leite     500\n",
       "   6 │ 50     Ovo       250\n",
       "   7 │ 50     Feijão    250\n",
       "   8 │ 50     Maionese  100\n",
       "   9 │ 10     Azeite    100"
      ]
     },
     "execution_count": 74,
     "metadata": {},
     "output_type": "execute_result"
    }
   ],
   "source": [
    "Limite_inf, Limite_sup = ones(length(elementos),1),ones(length(elementos),1)\n",
    "\n",
    "Limite_inf[:] = [100; 100; 100; 100; 50; 50; 50; 50; 10]/100\n",
    "\n",
    "Limite_sup[:] = [500; 300; 200; 500; 500; 250; 250; 100; 100]/100\n",
    "\n",
    "Limite_inf = convert(Array{Any,2}, Limite_inf)\n",
    "Limite_sup = convert(Array{Any,2}, Limite_sup)\n",
    "\n",
    "DataFrame([Int64.(Limite_inf*100) sh[elementos,[2]] Int64.(Limite_sup*100)], [\"Inf g\", \"Alimento\", \"Sup g\"])"
   ]
  },
  {
   "cell_type": "code",
   "execution_count": 75,
   "metadata": {},
   "outputs": [
    {
     "data": {
      "text/plain": [
       "1×3 BitArray{2}:\n",
       " 1  1  1"
      ]
     },
     "execution_count": 75,
     "metadata": {},
     "output_type": "execute_result"
    }
   ],
   "source": [
    "maxi = [macros[:, :Carb]'Limite_sup macros[:, :Prot]'Limite_sup macros[:, :Gord]'Limite_sup]\n",
    "maxi .> [carb_cal prot_cal gord_cal]"
   ]
  },
  {
   "cell_type": "code",
   "execution_count": 86,
   "metadata": {},
   "outputs": [
    {
     "name": "stdout",
     "output_type": "stream",
     "text": [
      "nl_solver         : MathOptInterface.OptimizerWithAttributes(Ipopt.Optimizer, Pair{MathOptInterface.AbstractOptimizerAttribute,Any}[MathOptInterface.RawParameter(\"print_level\") => 0])\n",
      "feasibility_pump  : false\n",
      "log_levels        : [:Options, :Table, :Info]\n",
      "\n",
      "#Variables: 18\n",
      "#IntBinVar: 9\n",
      "#Constraints: 24\n",
      "#Linear Constraints: 15\n",
      "#Quadratic Constraints: 0\n",
      "#NonLinear Constraints: 9\n",
      "Obj Sense: Max\n",
      "\n",
      "Start values are not feasible.\n",
      "Status of relaxation: LOCALLY_SOLVED\n",
      "Time for relaxation: 0.05900001525878906\n",
      "Relaxation Obj: 2.7238610890136763\n",
      "\n",
      " ONodes   CLevel          Incumbent                   BestBound            Gap    Time   Restarts  GainGap  \n",
      "============================================================================================================\n",
      "    0       2                2.62                        2.72             3.9%    0.1       1         -     \n",
      "\n",
      "#branches: 1\n",
      "Obj: 2.621525419357661\n"
     ]
    }
   ],
   "source": [
    "optimizer = Juniper.Optimizer\n",
    "nl_solver = optimizer_with_attributes(Ipopt.Optimizer, \"print_level\" => 0)\n",
    "model = Model(optimizer_with_attributes(optimizer, \"nl_solver\" => nl_solver))#,\"mip_solver\"=>mip_solver))\n",
    "\n",
    "@variable(model, quantidade_alimento[i = 1:alimentos])\n",
    "@variable(model, quantidade[i = 1:alimentos], Bin)\n",
    "\n",
    "#@objective(model, Max, sum(quantidade)/basa + sum(quantidade_alimento[i] for i = 1:alimentos)/10) #/10 retorna a quantidade de alimentos em kg\n",
    "@objective(model, Max, sum(quantidade_alimento + quantidade)/alimentos)\n",
    "#@constraint(model, meta_calorica,  quantidade_alimento[i]*sum(macros[i,1:3]) - basa ≤ 1e-2)\n",
    "\n",
    "@NLconstraint(model, limitante_comida[i = 1:alimentos], quantidade_alimento[i] ≤ quantidade[i]*Limite_sup[i])\n",
    "\n",
    "@constraint(model, limitante_comida_inf[i = 1:alimentos], quantidade_alimento[i] ≥ quantidade[i]*Limite_inf[i])\n",
    "\n",
    "@constraint(model, meta_carb, -1e-4 ≤ sum(quantidade_alimento[i]*macros[i,1] for i = 1:alimentos) - carb_cal  ≤ 1e-4)\n",
    "\n",
    "@constraint(model, meta_prot, -1e-4 ≤ sum(quantidade_alimento[i]*macros[i,2] for i = 1:alimentos) - prot_cal ≤ 1e-4)\n",
    "\n",
    "@constraint(model, meta_gord, -1e-4 ≤ sum(quantidade_alimento[i]*macros[i,3] for i = 1:alimentos) - gord_cal ≤ 1e-4)\n",
    "\n",
    "optimize!(model)"
   ]
  },
  {
   "cell_type": "code",
   "execution_count": 87,
   "metadata": {},
   "outputs": [
    {
     "name": "stdout",
     "output_type": "stream",
     "text": [
      "Kg - 1.6593728704412842\n"
     ]
    }
   ],
   "source": [
    "if typeof(objective_value(model)) == typeof(1.)\n",
    "    g = value.(quantidade_alimento)\n",
    "    q = value.(quantidade)\n",
    "\n",
    "    posic = findall(x -> x > 1e-5, g)\n",
    "\n",
    "    d = [df[posic,1] g[posic]]\n",
    "end\n",
    "println(\"Kg - \",sum(g/10))"
   ]
  },
  {
   "cell_type": "code",
   "execution_count": 101,
   "metadata": {},
   "outputs": [
    {
     "data": {
      "text/plain": [
       "9-element Array{Float64,1}:\n",
       " 500.0000059939296\n",
       " 300.0000039939978\n",
       " 200.00000299365738\n",
       "  -9.95929755851904e-7\n",
       " 216.6059508180097\n",
       " 182.61474651336573\n",
       " 250.00000349173362\n",
       "   9.944510661103518e-7\n",
       "  10.152156638069586"
      ]
     },
     "execution_count": 101,
     "metadata": {},
     "output_type": "execute_result"
    }
   ],
   "source": [
    "g*100"
   ]
  },
  {
   "cell_type": "code",
   "execution_count": 100,
   "metadata": {},
   "outputs": [
    {
     "data": {
      "text/plain": [
       "9×1 Array{Float64,2}:\n",
       " 500.0\n",
       " 300.0\n",
       " 200.0\n",
       " 500.0\n",
       " 500.0\n",
       " 250.0\n",
       " 250.0\n",
       " 100.0\n",
       " 100.0"
      ]
     },
     "execution_count": 100,
     "metadata": {},
     "output_type": "execute_result"
    }
   ],
   "source": [
    "Limite_sup*100"
   ]
  },
  {
   "cell_type": "code",
   "execution_count": 107,
   "metadata": {},
   "outputs": [
    {
     "data": {
      "text/html": [
       "<table class=\"data-frame\"><thead><tr><th></th><th>Alimento</th><th>Quantidade</th><th>sup</th><th>inf</th></tr><tr><th></th><th>Any</th><th>Float64</th><th>Any</th><th>Any</th></tr></thead><tbody><p>7 rows × 4 columns</p><tr><th>1</th><td>Arroz</td><td>500.0</td><td>5.0</td><td>1.0</td></tr><tr><th>2</th><td>Banana</td><td>300.0</td><td>3.0</td><td>1.0</td></tr><tr><th>3</th><td>Maçã</td><td>200.0</td><td>2.0</td><td>1.0</td></tr><tr><th>4</th><td>Leite</td><td>216.606</td><td>5.0</td><td>0.5</td></tr><tr><th>5</th><td>Ovo</td><td>182.615</td><td>2.5</td><td>0.5</td></tr><tr><th>6</th><td>Feijão</td><td>250.0</td><td>2.5</td><td>0.5</td></tr><tr><th>7</th><td>Azeite</td><td>10.1522</td><td>1.0</td><td>0.1</td></tr></tbody></table>"
      ],
      "text/latex": [
       "\\begin{tabular}{r|cccc}\n",
       "\t& Alimento & Quantidade & sup & inf\\\\\n",
       "\t\\hline\n",
       "\t& Any & Float64 & Any & Any\\\\\n",
       "\t\\hline\n",
       "\t1 & Arroz & 500.0 & 5.0 & 1.0 \\\\\n",
       "\t2 & Banana & 300.0 & 3.0 & 1.0 \\\\\n",
       "\t3 & Maçã & 200.0 & 2.0 & 1.0 \\\\\n",
       "\t4 & Leite & 216.606 & 5.0 & 0.5 \\\\\n",
       "\t5 & Ovo & 182.615 & 2.5 & 0.5 \\\\\n",
       "\t6 & Feijão & 250.0 & 2.5 & 0.5 \\\\\n",
       "\t7 & Azeite & 10.1522 & 1.0 & 0.1 \\\\\n",
       "\\end{tabular}\n"
      ],
      "text/plain": [
       "\u001b[1m7×4 DataFrame\u001b[0m\n",
       "\u001b[1m Row \u001b[0m│\u001b[1m Alimento \u001b[0m\u001b[1m Quantidade \u001b[0m\u001b[1m sup \u001b[0m\u001b[1m inf \u001b[0m\n",
       "\u001b[1m     \u001b[0m│\u001b[90m Any      \u001b[0m\u001b[90m Float64    \u001b[0m\u001b[90m Any \u001b[0m\u001b[90m Any \u001b[0m\n",
       "─────┼────────────────────────────────\n",
       "   1 │ Arroz       500.0     5.0  1.0\n",
       "   2 │ Banana      300.0     3.0  1.0\n",
       "   3 │ Maçã        200.0     2.0  1.0\n",
       "   4 │ Leite       216.606   5.0  0.5\n",
       "   5 │ Ovo         182.615   2.5  0.5\n",
       "   6 │ Feijão      250.0     2.5  0.5\n",
       "   7 │ Azeite       10.1522  1.0  0.1"
      ]
     },
     "execution_count": 107,
     "metadata": {},
     "output_type": "execute_result"
    }
   ],
   "source": [
    "DataFrame(Alimento = d[1:end,1], Quantidade = d[1:end, 2]*100, sup = Limite_sup[posic], inf = Limite_inf[posic])"
   ]
  },
  {
   "cell_type": "code",
   "execution_count": 94,
   "metadata": {},
   "outputs": [
    {
     "data": {
      "text/plain": [
       "9-element Array{Any,1}:\n",
       " \"Arroz\"\n",
       " \"Banana\"\n",
       " \"Maçã\"\n",
       " \"Frango\"\n",
       " \"Leite\"\n",
       " \"Ovo\"\n",
       " \"Feijão\"\n",
       " \"Maionese\"\n",
       " \"Azeite\""
      ]
     },
     "execution_count": 94,
     "metadata": {},
     "output_type": "execute_result"
    }
   ],
   "source": [
    "df[1:end,1]"
   ]
  },
  {
   "cell_type": "code",
   "execution_count": 109,
   "metadata": {},
   "outputs": [
    {
     "data": {
      "text/plain": [
       "9×1 Array{Any,2}:\n",
       " 1.0\n",
       " 1.0\n",
       " 1.0\n",
       " 1.0\n",
       " 0.5\n",
       " 0.5\n",
       " 0.5\n",
       " 0.5\n",
       " 0.1"
      ]
     },
     "execution_count": 109,
     "metadata": {},
     "output_type": "execute_result"
    }
   ],
   "source": [
    "Limite_inf"
   ]
  }
 ],
 "metadata": {
  "kernelspec": {
   "display_name": "Julia 1.5.3",
   "language": "julia",
   "name": "julia-1.5"
  },
  "language_info": {
   "file_extension": ".jl",
   "mimetype": "application/julia",
   "name": "julia",
   "version": "1.5.3"
  },
  "toc": {
   "base_numbering": 1,
   "nav_menu": {
    "height": "125px",
    "width": "208px"
   },
   "number_sections": true,
   "sideBar": true,
   "skip_h1_title": false,
   "title_cell": "Índice",
   "title_sidebar": "Contents",
   "toc_cell": true,
   "toc_position": {
    "height": "calc(100% - 180px)",
    "left": "10px",
    "top": "150px",
    "width": "194.521px"
   },
   "toc_section_display": true,
   "toc_window_display": false
  }
 },
 "nbformat": 4,
 "nbformat_minor": 4
}
